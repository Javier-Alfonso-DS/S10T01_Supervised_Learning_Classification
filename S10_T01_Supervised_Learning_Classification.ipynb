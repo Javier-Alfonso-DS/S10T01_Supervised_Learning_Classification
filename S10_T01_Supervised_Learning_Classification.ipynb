{
 "cells": [
  {
   "cell_type": "code",
   "execution_count": null,
   "metadata": {},
   "outputs": [],
   "source": []
  },
  {
   "cell_type": "markdown",
   "metadata": {},
   "source": [
    "# STATEMENT\n",
    "We are going to practice and become familiar with classification algorithms.\n",
    "\n",
    "Level 1\n",
    "\n",
    "- Exercise 1\n",
    "Create at least three different classification models to try to predict as well as possible the delay of the flights (ArrDelay) of DelayedFlights.csv. Consider whether the flight has arrived late or not (ArrDelay > 0).\n",
    "\n",
    "- Exercise 2\n",
    "Compare the classification models using accuracy, a confidence matrix and other more advanced metrics.\n",
    "\n",
    "- Exercise 3\n",
    "Train them using the different parameters they admit.\n",
    "\n",
    "- Exercise 4\n",
    "Compare their performance using the trait/test or cross-validation approach.\n",
    "\n",
    "Level 2\n",
    "- Task 5\n",
    "Carry out some process of variable engineering to improve your prediction.\n",
    "\n",
    "Level 3\n",
    "- Exercise 6\n",
    "Do not use the variable DepDelay when making predictions."
   ]
  },
  {
   "cell_type": "markdown",
   "metadata": {},
   "source": [
    "# Level 1\n",
    "## - Exercise 1\n",
    "Create at least three different classification models to try to predict as well as possible the delay of the flights (ArrDelay) of DelayedFlights.csv. Consider whether the flight has arrived late or not (ArrDelay > 0).\n"
   ]
  },
  {
   "cell_type": "markdown",
   "metadata": {},
   "source": [
    "\n",
    "## - Exercise 2\n",
    "Compare the classification models using accuracy, a confidence matrix and other more advanced metrics.\n"
   ]
  },
  {
   "cell_type": "markdown",
   "metadata": {},
   "source": [
    "\n",
    "## - Exercise 3\n",
    "Train them using the different parameters they admit.\n"
   ]
  },
  {
   "cell_type": "markdown",
   "metadata": {},
   "source": [
    "\n",
    "## - Exercise 4\n",
    "Compare their performance using the trait/test or cross-validation approach.\n"
   ]
  },
  {
   "cell_type": "markdown",
   "metadata": {},
   "source": [
    "\n",
    "# Level 2\n",
    "## - Task 5\n",
    "Carry out some process of variable engineering to improve your prediction.\n"
   ]
  },
  {
   "cell_type": "markdown",
   "metadata": {},
   "source": [
    "\n",
    "# Level 3\n",
    "## - Exercise 6\n",
    "Do not use the variable DepDelay when making predictions."
   ]
  }
 ],
 "metadata": {
  "language_info": {
   "name": "python"
  },
  "orig_nbformat": 4
 },
 "nbformat": 4,
 "nbformat_minor": 2
}
